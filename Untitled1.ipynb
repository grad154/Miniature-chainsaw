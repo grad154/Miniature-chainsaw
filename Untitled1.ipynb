{
  "nbformat": 4,
  "nbformat_minor": 0,
  "metadata": {
    "colab": {
      "provenance": [],
      "collapsed_sections": [],
      "authorship_tag": "ABX9TyMSEMQ/NTJ3rrJkkbIUIONi",
      "include_colab_link": true
    },
    "kernelspec": {
      "name": "python3",
      "display_name": "Python 3"
    },
    "language_info": {
      "name": "python"
    }
  },
  "cells": [
    {
      "cell_type": "markdown",
      "metadata": {
        "id": "view-in-github",
        "colab_type": "text"
      },
      "source": [
        "<a href=\"https://colab.research.google.com/github/grad154/Miniature-chainsaw/blob/main/Untitled1.ipynb\" target=\"_parent\"><img src=\"https://colab.research.google.com/assets/colab-badge.svg\" alt=\"Open In Colab\"/></a>"
      ]
    },
    {
      "cell_type": "code",
      "execution_count": 3,
      "metadata": {
        "colab": {
          "base_uri": "https://localhost:8080/",
          "height": 35
        },
        "id": "8tFiBe9Lo9C5",
        "outputId": "70029c4c-310d-42e4-fca6-c6880b51be4a"
      },
      "outputs": [
        {
          "output_type": "execute_result",
          "data": {
            "text/plain": [
              "'-'"
            ],
            "application/vnd.google.colaboratory.intrinsic+json": {
              "type": "string"
            }
          },
          "metadata": {},
          "execution_count": 3
        }
      ],
      "source": [
        "import numpy as np\n",
        "\n",
        "nulSpis = [['.','.','.'],\n",
        "          ['.','.','.'],\n",
        "          ['.','.','.']]\n",
        "\n",
        "#print(nulSpis)\n",
        "\n",
        "def functionNul(nulSpis):\n",
        "  for i in range(len(nulSpis)):         #проверяем строчки \n",
        "    if nulSpis[i] == ['x', 'x', 'x']:\n",
        "      return 'x'\n",
        "    if nulSpis[i] == ['o', 'o', 'o']:\n",
        "      return('o')\n",
        "  for j in range(len(nulSpis[0])):      #проверяем столбики\n",
        "    x = 0\n",
        "    o = 0\n",
        "    for i in range(len(nulSpis)):\n",
        "      if nulSpis[i][j] == 'x':\n",
        "        x += 1\n",
        "      if nulSpis[i][j] == 'o':\n",
        "        o += 1\n",
        "    if x == 3:\n",
        "     return 'x'\n",
        "    if o == 3:\n",
        "     return 'o'\n",
        "  if nulSpis[0][0] == 'x' and nulSpis[1][1] == 'x' and nulSpis[2][2] == 'x': #проверяем две диагонали\n",
        "    return 'x'\n",
        "  if nulSpis[0][0] == 'o' and nulSpis[1][1] == 'o' and nulSpis[2][2] == 'o':\n",
        "    return 'o'\n",
        "  if nulSpis[0][2] == 'x' and nulSpis[1][1] == 'x' and nulSpis[2][0] == 'x':\n",
        "    return 'x'\n",
        "  if nulSpis[0][2] == 'o' and nulSpis[1][1] == 'o' and nulSpis[2][0] == 'o':\n",
        "    return 'o'\n",
        "  \n",
        "  flag = 0\n",
        "  \n",
        "  for i in range(3):\n",
        "    for j in range(3):\n",
        "      if nulSpis[i][j] == '.':\n",
        "        flag = 1\n",
        "        break\n",
        "  if flag == 0:\n",
        "    return 'draw'\n",
        "  return '-'\n",
        "\n",
        "\n",
        "\n",
        "\n",
        "\n",
        "functionNul(nulSpis)"
      ]
    },
    {
      "cell_type": "code",
      "source": [
        "while functionNul(nulSpis) == '-':\n",
        "  com = input().split()\n",
        "  com[1] = int(com[1])\n",
        "  com[2] = int(com[2])\n",
        "  print(com)\n",
        "\n",
        "  nulSpis[com[1]][com[2]] = com[0]\n",
        "\n",
        "  print()\n",
        "  print(np.array(nulSpis))\n",
        "  print()\n",
        "  print(functionNul(nulSpis))"
      ],
      "metadata": {
        "colab": {
          "base_uri": "https://localhost:8080/",
          "height": 380
        },
        "id": "696AI5z04ann",
        "outputId": "f450ec97-f159-4bf4-f800-d12c12b3f28c"
      },
      "execution_count": null,
      "outputs": [
        {
          "output_type": "error",
          "ename": "KeyboardInterrupt",
          "evalue": "ignored",
          "traceback": [
            "\u001b[0;31m---------------------------------------------------------------------------\u001b[0m",
            "\u001b[0;31mKeyboardInterrupt\u001b[0m                         Traceback (most recent call last)",
            "\u001b[0;32m<ipython-input-5-306df2380a89>\u001b[0m in \u001b[0;36m<module>\u001b[0;34m\u001b[0m\n\u001b[1;32m      1\u001b[0m \u001b[0;32mwhile\u001b[0m \u001b[0mfunctionNul\u001b[0m\u001b[0;34m(\u001b[0m\u001b[0mnulSpis\u001b[0m\u001b[0;34m)\u001b[0m \u001b[0;34m==\u001b[0m \u001b[0;34m'-'\u001b[0m\u001b[0;34m:\u001b[0m\u001b[0;34m\u001b[0m\u001b[0;34m\u001b[0m\u001b[0m\n\u001b[0;32m----> 2\u001b[0;31m   \u001b[0mcom\u001b[0m \u001b[0;34m=\u001b[0m \u001b[0minput\u001b[0m\u001b[0;34m(\u001b[0m\u001b[0;34m)\u001b[0m\u001b[0;34m.\u001b[0m\u001b[0msplit\u001b[0m\u001b[0;34m(\u001b[0m\u001b[0;34m)\u001b[0m\u001b[0;34m\u001b[0m\u001b[0;34m\u001b[0m\u001b[0m\n\u001b[0m\u001b[1;32m      3\u001b[0m   \u001b[0mcom\u001b[0m\u001b[0;34m[\u001b[0m\u001b[0;36m1\u001b[0m\u001b[0;34m]\u001b[0m \u001b[0;34m=\u001b[0m \u001b[0mint\u001b[0m\u001b[0;34m(\u001b[0m\u001b[0mcom\u001b[0m\u001b[0;34m[\u001b[0m\u001b[0;36m1\u001b[0m\u001b[0;34m]\u001b[0m\u001b[0;34m)\u001b[0m\u001b[0;34m\u001b[0m\u001b[0;34m\u001b[0m\u001b[0m\n\u001b[1;32m      4\u001b[0m   \u001b[0mcom\u001b[0m\u001b[0;34m[\u001b[0m\u001b[0;36m2\u001b[0m\u001b[0;34m]\u001b[0m \u001b[0;34m=\u001b[0m \u001b[0mint\u001b[0m\u001b[0;34m(\u001b[0m\u001b[0mcom\u001b[0m\u001b[0;34m[\u001b[0m\u001b[0;36m2\u001b[0m\u001b[0;34m]\u001b[0m\u001b[0;34m)\u001b[0m\u001b[0;34m\u001b[0m\u001b[0;34m\u001b[0m\u001b[0m\n\u001b[1;32m      5\u001b[0m   \u001b[0mprint\u001b[0m\u001b[0;34m(\u001b[0m\u001b[0mcom\u001b[0m\u001b[0;34m)\u001b[0m\u001b[0;34m\u001b[0m\u001b[0;34m\u001b[0m\u001b[0m\n",
            "\u001b[0;32m/usr/local/lib/python3.7/dist-packages/ipykernel/kernelbase.py\u001b[0m in \u001b[0;36mraw_input\u001b[0;34m(self, prompt)\u001b[0m\n\u001b[1;32m    861\u001b[0m             \u001b[0mself\u001b[0m\u001b[0;34m.\u001b[0m\u001b[0m_parent_ident\u001b[0m\u001b[0;34m,\u001b[0m\u001b[0;34m\u001b[0m\u001b[0;34m\u001b[0m\u001b[0m\n\u001b[1;32m    862\u001b[0m             \u001b[0mself\u001b[0m\u001b[0;34m.\u001b[0m\u001b[0m_parent_header\u001b[0m\u001b[0;34m,\u001b[0m\u001b[0;34m\u001b[0m\u001b[0;34m\u001b[0m\u001b[0m\n\u001b[0;32m--> 863\u001b[0;31m             \u001b[0mpassword\u001b[0m\u001b[0;34m=\u001b[0m\u001b[0;32mFalse\u001b[0m\u001b[0;34m,\u001b[0m\u001b[0;34m\u001b[0m\u001b[0;34m\u001b[0m\u001b[0m\n\u001b[0m\u001b[1;32m    864\u001b[0m         )\n\u001b[1;32m    865\u001b[0m \u001b[0;34m\u001b[0m\u001b[0m\n",
            "\u001b[0;32m/usr/local/lib/python3.7/dist-packages/ipykernel/kernelbase.py\u001b[0m in \u001b[0;36m_input_request\u001b[0;34m(self, prompt, ident, parent, password)\u001b[0m\n\u001b[1;32m    902\u001b[0m             \u001b[0;32mexcept\u001b[0m \u001b[0mKeyboardInterrupt\u001b[0m\u001b[0;34m:\u001b[0m\u001b[0;34m\u001b[0m\u001b[0;34m\u001b[0m\u001b[0m\n\u001b[1;32m    903\u001b[0m                 \u001b[0;31m# re-raise KeyboardInterrupt, to truncate traceback\u001b[0m\u001b[0;34m\u001b[0m\u001b[0;34m\u001b[0m\u001b[0;34m\u001b[0m\u001b[0m\n\u001b[0;32m--> 904\u001b[0;31m                 \u001b[0;32mraise\u001b[0m \u001b[0mKeyboardInterrupt\u001b[0m\u001b[0;34m(\u001b[0m\u001b[0;34m\"Interrupted by user\"\u001b[0m\u001b[0;34m)\u001b[0m \u001b[0;32mfrom\u001b[0m \u001b[0;32mNone\u001b[0m\u001b[0;34m\u001b[0m\u001b[0;34m\u001b[0m\u001b[0m\n\u001b[0m\u001b[1;32m    905\u001b[0m             \u001b[0;32mexcept\u001b[0m \u001b[0mException\u001b[0m \u001b[0;32mas\u001b[0m \u001b[0me\u001b[0m\u001b[0;34m:\u001b[0m\u001b[0;34m\u001b[0m\u001b[0;34m\u001b[0m\u001b[0m\n\u001b[1;32m    906\u001b[0m                 \u001b[0mself\u001b[0m\u001b[0;34m.\u001b[0m\u001b[0mlog\u001b[0m\u001b[0;34m.\u001b[0m\u001b[0mwarning\u001b[0m\u001b[0;34m(\u001b[0m\u001b[0;34m\"Invalid Message:\"\u001b[0m\u001b[0;34m,\u001b[0m \u001b[0mexc_info\u001b[0m\u001b[0;34m=\u001b[0m\u001b[0;32mTrue\u001b[0m\u001b[0;34m)\u001b[0m\u001b[0;34m\u001b[0m\u001b[0;34m\u001b[0m\u001b[0m\n",
            "\u001b[0;31mKeyboardInterrupt\u001b[0m: Interrupted by user"
          ]
        }
      ]
    },
    {
      "cell_type": "markdown",
      "source": [
        "#####*иммитация игры в кретики нолики*"
      ],
      "metadata": {
        "id": "A0C3dKZJGh_J"
      }
    },
    {
      "cell_type": "code",
      "source": [
        "import numpy as np\n",
        " \n",
        "nulSpis = [['.','.','.'],\n",
        "          ['.','.','.'],\n",
        "          ['.','.','.']]\n",
        "\n",
        "RanSpis = [0,1,2,3,4,5,6,7,8]\n",
        "np.random.shuffle(RanSpis) \n",
        "\n",
        "for i in range(len(RanSpis)):\n",
        "  if i % 2 == 0:\n",
        "    nulSpis[RanSpis[i] % 3][RanSpis[i] // 3] = 'x'\n",
        "  else:\n",
        "    nulSpis[RanSpis[i] % 3][RanSpis[i] // 3] = 'o'\n",
        "  print(np.array(nulSpis))\n",
        "  print(functionNul(nulSpis))\n",
        "  if functionNul(nulSpis) == 'x' or functionNul(nulSpis) == 'o':\n",
        "    break  \n",
        "print(functionNul(nulSpis))\n",
        "\n",
        "\n",
        "\n",
        "\n"
      ],
      "metadata": {
        "colab": {
          "base_uri": "https://localhost:8080/",
          "height": 287
        },
        "id": "ps8ffTthG405",
        "outputId": "5ffbd22f-c315-4d3d-d273-ba1578018ea6"
      },
      "execution_count": 1,
      "outputs": [
        {
          "output_type": "stream",
          "name": "stdout",
          "text": [
            "[['.' '.' '.']\n",
            " ['.' '.' '.']\n",
            " ['.' '.' 'x']]\n"
          ]
        },
        {
          "output_type": "error",
          "ename": "NameError",
          "evalue": "ignored",
          "traceback": [
            "\u001b[0;31m---------------------------------------------------------------------------\u001b[0m",
            "\u001b[0;31mNameError\u001b[0m                                 Traceback (most recent call last)",
            "\u001b[0;32m<ipython-input-1-535d43fea3ef>\u001b[0m in \u001b[0;36m<module>\u001b[0;34m\u001b[0m\n\u001b[1;32m     14\u001b[0m     \u001b[0mnulSpis\u001b[0m\u001b[0;34m[\u001b[0m\u001b[0mRanSpis\u001b[0m\u001b[0;34m[\u001b[0m\u001b[0mi\u001b[0m\u001b[0;34m]\u001b[0m \u001b[0;34m%\u001b[0m \u001b[0;36m3\u001b[0m\u001b[0;34m]\u001b[0m\u001b[0;34m[\u001b[0m\u001b[0mRanSpis\u001b[0m\u001b[0;34m[\u001b[0m\u001b[0mi\u001b[0m\u001b[0;34m]\u001b[0m \u001b[0;34m//\u001b[0m \u001b[0;36m3\u001b[0m\u001b[0;34m]\u001b[0m \u001b[0;34m=\u001b[0m \u001b[0;34m'o'\u001b[0m\u001b[0;34m\u001b[0m\u001b[0;34m\u001b[0m\u001b[0m\n\u001b[1;32m     15\u001b[0m   \u001b[0mprint\u001b[0m\u001b[0;34m(\u001b[0m\u001b[0mnp\u001b[0m\u001b[0;34m.\u001b[0m\u001b[0marray\u001b[0m\u001b[0;34m(\u001b[0m\u001b[0mnulSpis\u001b[0m\u001b[0;34m)\u001b[0m\u001b[0;34m)\u001b[0m\u001b[0;34m\u001b[0m\u001b[0;34m\u001b[0m\u001b[0m\n\u001b[0;32m---> 16\u001b[0;31m   \u001b[0mprint\u001b[0m\u001b[0;34m(\u001b[0m\u001b[0mfunctionNul\u001b[0m\u001b[0;34m(\u001b[0m\u001b[0mnulSpis\u001b[0m\u001b[0;34m)\u001b[0m\u001b[0;34m)\u001b[0m\u001b[0;34m\u001b[0m\u001b[0;34m\u001b[0m\u001b[0m\n\u001b[0m\u001b[1;32m     17\u001b[0m   \u001b[0;32mif\u001b[0m \u001b[0mfunctionNul\u001b[0m\u001b[0;34m(\u001b[0m\u001b[0mnulSpis\u001b[0m\u001b[0;34m)\u001b[0m \u001b[0;34m==\u001b[0m \u001b[0;34m'x'\u001b[0m \u001b[0;32mor\u001b[0m \u001b[0mfunctionNul\u001b[0m\u001b[0;34m(\u001b[0m\u001b[0mnulSpis\u001b[0m\u001b[0;34m)\u001b[0m \u001b[0;34m==\u001b[0m \u001b[0;34m'o'\u001b[0m\u001b[0;34m:\u001b[0m\u001b[0;34m\u001b[0m\u001b[0;34m\u001b[0m\u001b[0m\n\u001b[1;32m     18\u001b[0m     \u001b[0;32mbreak\u001b[0m\u001b[0;34m\u001b[0m\u001b[0;34m\u001b[0m\u001b[0m\n",
            "\u001b[0;31mNameError\u001b[0m: name 'functionNul' is not defined"
          ]
        }
      ]
    },
    {
      "cell_type": "code",
      "source": [
        "\n",
        "RezSpis = [[0,0,0],\n",
        "            [0,0,0],\n",
        "            [0,0,0]]\n",
        "for i in range(10):\n",
        "  nulSpis = [['.','.','x'],\n",
        "            ['.','o','.'],\n",
        "            ['.','.','.']]\n",
        "  RanSpis = []\n",
        "  \n",
        "  for k in range(len(nulSpis)):\n",
        "    for c in range(3):\n",
        "      if nulSpis[k][c] == '.':\n",
        "        RanSpis.append(k*3 + c) \n",
        "\n",
        "  np.random.shuffle(RanSpis) \n",
        "\n",
        "  for i in range(len(RanSpis)):\n",
        "    if i % 2 == 0:\n",
        "      nulSpis[RanSpis[i] % 3][RanSpis[i] // 3] = 'o'\n",
        "    else:\n",
        "      nulSpis[RanSpis[i] % 3][RanSpis[i] // 3] = 'x'\n",
        "    #print(np.array(nulSpis))\n",
        "    #print(functionNul(nulSpis))\n",
        "    if functionNul(nulSpis) == 'x' or functionNul(nulSpis) == 'o':\n",
        "      if functionNul(nulSpis) == 'o':\n",
        "        RezSpis[RanSpis[i] % 3][RanSpis[i] // 3] += 1\n",
        "        break\n",
        "print(np.array(RezSpis))\n",
        "  \n",
        "  \n",
        "    \n",
        " "
      ],
      "metadata": {
        "colab": {
          "base_uri": "https://localhost:8080/"
        },
        "id": "zo2bfMnBQet_",
        "outputId": "a11d7a04-50b8-4be4-b9af-2488684a7ad6"
      },
      "execution_count": 5,
      "outputs": [
        {
          "output_type": "stream",
          "name": "stdout",
          "text": [
            "[[2 1 0]\n",
            " [2 0 1]\n",
            " [0 1 2]]\n"
          ]
        }
      ]
    },
    {
      "cell_type": "code",
      "source": [
        "nulSpis = [['.','.','.'], #добавление в ranSpis исходя и nulSpis \n",
        "          ['.','.','.'],\n",
        "          ['.','.','.']]\n",
        "a = 1\n",
        "while a == 1:\n",
        "  com = input(\"Введите координату ввида(x 1 1): \").split()\n",
        "  com[1] = int(com[1])\n",
        "  com[2] = int(com[2])\n",
        "\n",
        "  nulSpis[com[1]][com[2]] = com[0]\n",
        "  a = int(input(\"enter no 1 to break: \"))\n",
        "RanSpis = []\n",
        "\n",
        "for k in range(len(nulSpis)):\n",
        "  for c in range(3):\n",
        "    if nulSpis[k][c] == '.':\n",
        "      RanSpis.append(k*3 + c)\n",
        "print(RanSpis)\n",
        "print"
      ],
      "metadata": {
        "colab": {
          "base_uri": "https://localhost:8080/"
        },
        "id": "STSKgUw8Cv3H",
        "outputId": "d45ef48b-eb16-4c2c-94be-c5170265806b"
      },
      "execution_count": null,
      "outputs": [
        {
          "output_type": "stream",
          "name": "stdout",
          "text": [
            "Введите координату ввида(x 1 1): o 1 1\n",
            "enter no 1 to break1\n",
            "Введите координату ввида(x 1 1): o 1 2\n",
            "enter no 1 to break2\n",
            "[0, 1, 2, 3, 6, 7, 8]\n"
          ]
        }
      ]
    },
    {
      "cell_type": "code",
      "source": [],
      "metadata": {
        "id": "MQWnY8LGCLv2"
      },
      "execution_count": null,
      "outputs": []
    }
  ]
}